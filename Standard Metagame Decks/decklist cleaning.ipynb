{
 "cells": [
  {
   "cell_type": "code",
   "execution_count": 15,
   "metadata": {},
   "outputs": [],
   "source": [
    "deckname = 'Esper Aggro'\n",
    "with open('Standard Metagame Decks/'+deckname+'.txt','r') as decklist:\n",
    "    lines = decklist.readlines()"
   ]
  },
  {
   "cell_type": "code",
   "execution_count": 16,
   "metadata": {},
   "outputs": [
    {
     "name": "stdout",
     "output_type": "stream",
     "text": [
      "4,\"Caves of Koilos\"\n",
      "\n",
      "4,\"Darkslick Shores\"\n",
      "\n",
      "4,\"Dennick, Pious Apprentice\"\n",
      "\n",
      "1,\"Edgar, Charmed Groom\"\n",
      "\n",
      "3,\"Eiganjo, Seat of the Empire\"\n",
      "\n",
      "2,\"Gix, Yawgmoth Praetor\"\n",
      "\n",
      "2,\"Go for the Throat\"\n",
      "\n",
      "3,\"Guardian of New Benalia\"\n",
      "\n",
      "1,\"Harbin, Vanguard Aviator\"\n",
      "\n",
      "3,\"Otawara, Soaring City\"\n",
      "\n",
      "4,\"Plaza of Heroes\"\n",
      "\n",
      "4,\"Raffine, Scheming Seer\"\n",
      "\n",
      "4,\"Seachrome Coast\"\n",
      "\n",
      "4,\"Shattered Sanctum\"\n",
      "\n",
      "3,\"Sheoldred, the Apocalypse\"\n",
      "\n",
      "4,\"Skrelv, Defector Mite\"\n",
      "\n",
      "1,\"Takenuma, Abandoned Mire\"\n",
      "\n",
      "4,\"Thalia, Guardian of Thraben\"\n",
      "\n",
      "1,\"The Raven Man\"\n",
      "\n",
      "4,\"Toluz, Clever Conductor\"\n",
      "\n",
      "4,\"Cut Down\"\n",
      "\n",
      "2,\"Disdainful Stroke\"\n",
      "\n",
      "1,\"Edgar, Charmed Groom\"\n",
      "\n",
      "2,\"Loran of the Third Path\"\n",
      "\n",
      "3,\"Razorlash Transmogrant\"\n",
      "\n",
      "3,\"Spell Pierce\"\n",
      "\n"
     ]
    }
   ],
   "source": [
    "with open('Standard Metagame Decks/'+deckname+'.csv','w') as file:\n",
    "    file.write('Quantity,Card_Name\\n')\n",
    "    for line in lines:\n",
    "        if len(line) > 1:\n",
    "            if line[1] == ' ':\n",
    "                print(line[0]+',\"'+line[2:len(line)-1]+'\"\\n')\n",
    "                file.write(line[0]+',\"'+line[2:len(line)-1]+'\"\\n')\n"
   ]
  }
 ],
 "metadata": {
  "kernelspec": {
   "display_name": "Python 3",
   "language": "python",
   "name": "python3"
  },
  "language_info": {
   "codemirror_mode": {
    "name": "ipython",
    "version": 3
   },
   "file_extension": ".py",
   "mimetype": "text/x-python",
   "name": "python",
   "nbconvert_exporter": "python",
   "pygments_lexer": "ipython3",
   "version": "3.10.10"
  },
  "orig_nbformat": 4
 },
 "nbformat": 4,
 "nbformat_minor": 2
}
